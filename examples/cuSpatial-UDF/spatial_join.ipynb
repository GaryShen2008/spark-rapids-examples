{
 "cells": [
  {
   "cell_type": "code",
   "execution_count": null,
   "id": "26b29706",
   "metadata": {},
   "outputs": [],
   "source": [
    "from pyspark.sql import SparkSession\n",
    "spark = SparkSession.builder \\\n",
    "    .config(\"spark.jars\", \"/home/liangcail/work/files/jars/cudf.jar,/home/liangcail/work/files/jars/rapids.jar,/home/liangcail/work/files/jars/udf.jar\") \\\n",
    "    .config(\"spark.sql.adaptive.enabled\", \"false\") \\\n",
    "    .config(\"spark.default.parallelism\", \"3\") \\\n",
    "    .config(\"spark.executor.memory\", \"50GB\") \\\n",
    "    .config(\"spark.executor.cores\", \"6\") \\\n",
    "    .config(\"spark.plugins\", \"com.nvidia.spark.SQLPlugin\") \\\n",
    "    .config(\"spark.rapids.sql.enabled\", \"true\") \\\n",
    "    .config(\"park.rapids.sql.batchSizeBytes\", \"1GB\") \\\n",
    "    .config(\"spark.executor.resource.gpu.amount\", \"1\") \\\n",
    "    .getOrCreate()\n",
    "spark\n",
    "# register the udf\n",
    "spark.udf.registerJavaFunction(\"point_in_polygon\", \"com.nvidia.spark.rapids.udf.PointInPolygon\", None)"
   ]
  },
  {
   "cell_type": "code",
   "execution_count": null,
   "id": "cce700a8",
   "metadata": {},
   "outputs": [],
   "source": [
    "# prepare shape files\n",
    "spark.sparkContext.addFile(\"/data/cuspatial/taxi_zones/shape/taxi_zones.shp\")\n",
    "spark.sparkContext.addFile(\"/data/cuspatial/taxi_zones/shape/taxi_zones.shx\")\n",
    "\n",
    "spark.sparkContext.addFile(\"/data/cuspatial/taxi_zones/shape/nyct2000.shp\")\n",
    "spark.sparkContext.addFile(\"/data/cuspatial/taxi_zones/shape/nyct2000.shx\")\n",
    "\n",
    "ptPath = \"/data/cuspatial/taxi_zones/pt/\"\n",
    "outPath = \"/data/cuspatial/out/gpu/\""
   ]
  },
  {
   "cell_type": "code",
   "execution_count": null,
   "id": "cd26c441",
   "metadata": {},
   "outputs": [],
   "source": [
    "# set its parameters via SQL config for runtime updating\n",
    "spark.conf.set(\"spark.cuspatial.sql.udf.shapeFileName\", \"nyct2000.shp\")"
   ]
  },
  {
   "cell_type": "code",
   "execution_count": null,
   "id": "6b1016ce",
   "metadata": {},
   "outputs": [],
   "source": [
    "# read the points data\n",
    "df = spark.read.parquet(ptPath)\n",
    "df = df.selectExpr('x', 'y', 'point_in_polygon(x, y) as point_in_polygon')"
   ]
  },
  {
   "cell_type": "code",
   "execution_count": null,
   "id": "ebc30e7f",
   "metadata": {},
   "outputs": [],
   "source": [
    "import time"
   ]
  },
  {
   "cell_type": "code",
   "execution_count": null,
   "id": "09d5e22e",
   "metadata": {},
   "outputs": [],
   "source": [
    "begin = time.time()\n",
    "df.write.mode(\"overwrite\").parquet(outPath)\n",
    "end = time.time()\n",
    "print(\"==> It took {} s\".format(round(end-begin, 2)))"
   ]
  },
  {
   "cell_type": "code",
   "execution_count": null,
   "id": "80782c49",
   "metadata": {},
   "outputs": [],
   "source": []
  }
 ],
 "metadata": {
  "kernelspec": {
   "display_name": "Python 3 (ipykernel)",
   "language": "python",
   "name": "python3"
  },
  "language_info": {
   "codemirror_mode": {
    "name": "ipython",
    "version": 3
   },
   "file_extension": ".py",
   "mimetype": "text/x-python",
   "name": "python",
   "nbconvert_exporter": "python",
   "pygments_lexer": "ipython3",
   "version": "3.8.12"
  }
 },
 "nbformat": 4,
 "nbformat_minor": 5
}
